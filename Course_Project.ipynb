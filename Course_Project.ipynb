{
    "cells": [
        {
            "cell_type": "markdown",
            "metadata": {},
            "source": "# Coursera Capstone Project"
        },
        {
            "cell_type": "markdown",
            "metadata": {
                "collapsed": true
            },
            "source": "## Introduction Section"
        },
        {
            "cell_type": "markdown",
            "metadata": {},
            "source": "### Project Topic: Where is the best location for our new-open appartment?"
        },
        {
            "cell_type": "markdown",
            "metadata": {},
            "source": "#### 1. Project Background Statement"
        },
        {
            "cell_type": "markdown",
            "metadata": {},
            "source": "We are looking for a place to start up our new appartment in Texas. Texas is growing very fast recently. A lot of constructions are on going here and there. New appartments, new restaurants can be found anywhere in Texas. As an individual who have lived in Texas for amost five years, I really feel the development of the State. As a third-populated state in the US, living in Texas is very comfortable and relaxed. The traffic is good here as well as the public transporation system.\nAs the expanding econemy and population of Texas, the demand of new appartment is increasing dramatically. Therefore, we believe that a new appartment business in Texas will be profitable and worth investing."
        },
        {
            "cell_type": "markdown",
            "metadata": {},
            "source": "#### 2. Project Target Statement"
        },
        {
            "cell_type": "markdown",
            "metadata": {},
            "source": "In this project, we are going to use Foursquare API to get information and analysis the data we obtained, to make a decision where (which city in Texas) will be the new appartment located."
        },
        {
            "cell_type": "markdown",
            "metadata": {},
            "source": "## Data Section"
        },
        {
            "cell_type": "markdown",
            "metadata": {},
            "source": "1. All the city information includling Name, population, household income, crimial rate, etc. (probabily from Webs)\n2. popularity of the city - numbers of parks, markets, schools, hospitals. (probabily from Foursquare API)"
        },
        {
            "cell_type": "code",
            "execution_count": 1,
            "metadata": {},
            "outputs": [],
            "source": "url1 = 'https://www.tsl.texas.gov/ref/abouttx/popcity32010.html' # city population\nurl2 = 'https://www.indexmundi.com/facts/united-states/quick-facts/texas/median-household-income/cities#table' # household income data\nurl3 = 'https://www.indexmundi.com/facts/united-states/quick-facts/texas/average-commute-time/cities#table'# mean travel time to work\nurl4 = 'http://www.usa.com/rank/texas-state--crime-index--city-rank.htm?hl=&hlst=&wist=&yr=&dis=&sb=ASC&plow=&phigh=&ps=' # city criminal index"
        },
        {
            "cell_type": "code",
            "execution_count": 3,
            "metadata": {},
            "outputs": [
                {
                    "name": "stdout",
                    "output_type": "stream",
                    "text": "Solving environment: done\n\n## Package Plan ##\n\n  environment location: /opt/conda/envs/Python36\n\n  added / updated specs: \n    - geopy\n\n\nThe following packages will be downloaded:\n\n    package                    |            build\n    ---------------------------|-----------------\n    geopy-1.21.0               |             py_0          58 KB  conda-forge\n    openssl-1.1.1g             |       h516909a_0         2.1 MB  conda-forge\n    ca-certificates-2020.4.5.1 |       hecc5488_0         146 KB  conda-forge\n    geographiclib-1.50         |             py_0          34 KB  conda-forge\n    python_abi-3.6             |          1_cp36m           4 KB  conda-forge\n    certifi-2020.4.5.1         |   py36h9f0ad1d_0         151 KB  conda-forge\n    ------------------------------------------------------------\n                                           Total:         2.5 MB\n\nThe following NEW packages will be INSTALLED:\n\n    geographiclib:   1.50-py_0         conda-forge\n    geopy:           1.21.0-py_0       conda-forge\n    python_abi:      3.6-1_cp36m       conda-forge\n\nThe following packages will be UPDATED:\n\n    ca-certificates: 2020.1.1-0                    --> 2020.4.5.1-hecc5488_0     conda-forge\n    certifi:         2020.4.5.1-py36_0             --> 2020.4.5.1-py36h9f0ad1d_0 conda-forge\n    openssl:         1.1.1g-h7b6447c_0             --> 1.1.1g-h516909a_0         conda-forge\n\n\nDownloading and Extracting Packages\ngeopy-1.21.0         | 58 KB     | ##################################### | 100% \nopenssl-1.1.1g       | 2.1 MB    | ##################################### | 100% \nca-certificates-2020 | 146 KB    | ##################################### | 100% \ngeographiclib-1.50   | 34 KB     | ##################################### | 100% \npython_abi-3.6       | 4 KB      | ##################################### | 100% \ncertifi-2020.4.5.1   | 151 KB    | ##################################### | 100% \nPreparing transaction: done\nVerifying transaction: done\nExecuting transaction: done\nSolving environment: done\n\n## Package Plan ##\n\n  environment location: /opt/conda/envs/Python36\n\n  added / updated specs: \n    - folium=0.5.0\n\n\nThe following packages will be downloaded:\n\n    package                    |            build\n    ---------------------------|-----------------\n    vincent-0.4.4              |             py_1          28 KB  conda-forge\n    folium-0.5.0               |             py_0          45 KB  conda-forge\n    altair-4.1.0               |             py_1         614 KB  conda-forge\n    branca-0.4.0               |             py_0          26 KB  conda-forge\n    ------------------------------------------------------------\n                                           Total:         713 KB\n\nThe following NEW packages will be INSTALLED:\n\n    altair:  4.1.0-py_1 conda-forge\n    branca:  0.4.0-py_0 conda-forge\n    folium:  0.5.0-py_0 conda-forge\n    vincent: 0.4.4-py_1 conda-forge\n\n\nDownloading and Extracting Packages\nvincent-0.4.4        | 28 KB     | ##################################### | 100% \nfolium-0.5.0         | 45 KB     | ##################################### | 100% \naltair-4.1.0         | 614 KB    | ##################################### | 100% \nbranca-0.4.0         | 26 KB     | ##################################### | 100% \nPreparing transaction: done\nVerifying transaction: done\nExecuting transaction: done\n"
                }
            ],
            "source": "# Install and import all the libraries:\nimport pandas as pd\npd.set_option('display.max_columns', None)\npd.set_option('display.max_rows', None)\n\nimport json # library to handle JSON files\n\n!conda install -c conda-forge geopy --yes\nfrom geopy.geocoders import Nominatim # convert an address into latitude and longitude values\n\nimport requests # library to handle requests\nfrom pandas.io.json import json_normalize # tranform JSON file into a pandas dataframe\n\n# Matplotlib and associated plotting modules\nimport matplotlib.cm as cm\nimport matplotlib.colors as colors\n\n# import k-means from clustering stage\nfrom sklearn.cluster import KMeans\n!conda install -c conda-forge folium=0.5.0 --yes # uncomment this line if you haven't completed the Foursquare API lab\nimport folium # map rendering library\n\nimport numpy as np\n\nfrom bs4 import BeautifulSoup"
        },
        {
            "cell_type": "code",
            "execution_count": 4,
            "metadata": {},
            "outputs": [],
            "source": "# create a object to handle the contents of targeting website\n# city population\npopulation = requests.get(url1).text\nsoup_pop = BeautifulSoup(population,'lxml')\n# household income\nincome = requests.get(url2).text\nsoup_income = BeautifulSoup(income,'lxml')\n# average travel time to work\ntravel_time = requests.get(url3).text\nsoup_tt = BeautifulSoup(travel_time,'lxml')\n# city criminal index \ncriminal_index = requests.get(url4).text\nsoup_ci = BeautifulSoup(criminal_index,'lxml')"
        },
        {
            "cell_type": "markdown",
            "metadata": {},
            "source": "Following table is the population of Texas Cities"
        },
        {
            "cell_type": "code",
            "execution_count": 5,
            "metadata": {},
            "outputs": [
                {
                    "data": {
                        "text/html": "<div>\n<style scoped>\n    .dataframe tbody tr th:only-of-type {\n        vertical-align: middle;\n    }\n\n    .dataframe tbody tr th {\n        vertical-align: top;\n    }\n\n    .dataframe thead th {\n        text-align: right;\n    }\n</style>\n<table border=\"1\" class=\"dataframe\">\n  <thead>\n    <tr style=\"text-align: right;\">\n      <th></th>\n      <th>City Name</th>\n      <th>Population</th>\n    </tr>\n  </thead>\n  <tbody>\n    <tr>\n      <th>0</th>\n      <td>Houston</td>\n      <td>2,099,451</td>\n    </tr>\n    <tr>\n      <th>1</th>\n      <td>San Antonio</td>\n      <td>1,327,407</td>\n    </tr>\n    <tr>\n      <th>2</th>\n      <td>Dallas</td>\n      <td>1,197,816</td>\n    </tr>\n    <tr>\n      <th>3</th>\n      <td>Austin</td>\n      <td>790,390</td>\n    </tr>\n    <tr>\n      <th>4</th>\n      <td>Fort Worth</td>\n      <td>741,206</td>\n    </tr>\n  </tbody>\n</table>\n</div>",
                        "text/plain": "     City Name Population\n0      Houston  2,099,451\n1  San Antonio  1,327,407\n2       Dallas  1,197,816\n3       Austin    790,390\n4   Fort Worth    741,206"
                    },
                    "execution_count": 5,
                    "metadata": {},
                    "output_type": "execute_result"
                }
            ],
            "source": "# find the table in the targeting website and convert them into panda dataframe\n# 1. the city population\npopulation_table = soup_pop.find('table')\n#print(population_table.prettify())\n\npopulation_table_rows = population_table.find_all('tr')\npopulation_data = []\nfor tr in population_table_rows:\n    td = tr.find_all('td') \n    row = [i.text.replace('\\n','').replace('\\t','').replace(' city','') for i in td] # remove \\n \\t and _city in the text with nothing\n    population_data.append(row)\n\npopulation_data = population_data[1:]\n#print (population_data)\n\ndf_pop = pd.DataFrame(population_data, columns = ['City Name','Population'])\ndf_pop = df_pop.drop([0],axis = 0)\ndf_pop = df_pop.reset_index(drop = True)\ndf_pop.head(5)\n#print(df_pop)"
        },
        {
            "cell_type": "code",
            "execution_count": 41,
            "metadata": {},
            "outputs": [
                {
                    "name": "stdout",
                    "output_type": "stream",
                    "text": "The size of the table is (1752, 2)\n"
                }
            ],
            "source": "print('The size of the table is {}'.format(df_pop.shape))"
        },
        {
            "cell_type": "code",
            "execution_count": 6,
            "metadata": {},
            "outputs": [
                {
                    "data": {
                        "text/html": "<div>\n<style scoped>\n    .dataframe tbody tr th:only-of-type {\n        vertical-align: middle;\n    }\n\n    .dataframe tbody tr th {\n        vertical-align: top;\n    }\n\n    .dataframe thead th {\n        text-align: right;\n    }\n</style>\n<table border=\"1\" class=\"dataframe\">\n  <thead>\n    <tr style=\"text-align: right;\">\n      <th></th>\n      <th>City Name</th>\n      <th>Household Income Value ($)</th>\n    </tr>\n  </thead>\n  <tbody>\n    <tr>\n      <th>0</th>\n      <td>Abilene</td>\n      <td>47,689</td>\n    </tr>\n    <tr>\n      <th>1</th>\n      <td>Addison</td>\n      <td>73,383</td>\n    </tr>\n    <tr>\n      <th>2</th>\n      <td>Alamo</td>\n      <td>39,275</td>\n    </tr>\n    <tr>\n      <th>3</th>\n      <td>Alamo Heights</td>\n      <td>132,313</td>\n    </tr>\n    <tr>\n      <th>4</th>\n      <td>Aldine</td>\n      <td>38,964</td>\n    </tr>\n  </tbody>\n</table>\n</div>",
                        "text/plain": "       City Name Household Income Value ($)\n0        Abilene                     47,689\n1        Addison                     73,383\n2          Alamo                     39,275\n3  Alamo Heights                    132,313\n4         Aldine                     38,964"
                    },
                    "execution_count": 6,
                    "metadata": {},
                    "output_type": "execute_result"
                }
            ],
            "source": "# 2 The household income\nincome_table = soup_income.findAll('table')[1]\n#print(income_table.prettify())\n\nincome_table_rows = income_table.find_all('tr')\nincome_data = []\nfor tr in income_table_rows:\n    td = tr.find_all('td')\n    row = [i.text for i in td]\n    income_data.append(row)\n    \nincome_data = income_data[1:]\n#print(income_data)\n\ndf_income = pd.DataFrame(income_data, columns = ['City Name','Household Income Value ($)'])\ndf_income.head(5)\n#print(df_income)"
        },
        {
            "cell_type": "code",
            "execution_count": 63,
            "metadata": {},
            "outputs": [
                {
                    "name": "stdout",
                    "output_type": "stream",
                    "text": "The size of the table is (379, 2)\n"
                }
            ],
            "source": "print('The size of the table is {}'.format(df_income.shape))"
        },
        {
            "cell_type": "code",
            "execution_count": 8,
            "metadata": {},
            "outputs": [
                {
                    "data": {
                        "text/html": "<div>\n<style scoped>\n    .dataframe tbody tr th:only-of-type {\n        vertical-align: middle;\n    }\n\n    .dataframe tbody tr th {\n        vertical-align: top;\n    }\n\n    .dataframe thead th {\n        text-align: right;\n    }\n</style>\n<table border=\"1\" class=\"dataframe\">\n  <thead>\n    <tr style=\"text-align: right;\">\n      <th></th>\n      <th>City Name</th>\n      <th>Mean Travel Time (min)</th>\n    </tr>\n  </thead>\n  <tbody>\n    <tr>\n      <th>0</th>\n      <td>Abilene</td>\n      <td>15.6</td>\n    </tr>\n    <tr>\n      <th>1</th>\n      <td>Addison</td>\n      <td>22.1</td>\n    </tr>\n    <tr>\n      <th>2</th>\n      <td>Alamo</td>\n      <td>20.7</td>\n    </tr>\n    <tr>\n      <th>3</th>\n      <td>Alamo Heights</td>\n      <td>19.0</td>\n    </tr>\n    <tr>\n      <th>4</th>\n      <td>Aldine</td>\n      <td>31.4</td>\n    </tr>\n  </tbody>\n</table>\n</div>",
                        "text/plain": "       City Name Mean Travel Time (min)\n0        Abilene                   15.6\n1        Addison                   22.1\n2          Alamo                   20.7\n3  Alamo Heights                   19.0\n4         Aldine                   31.4"
                    },
                    "execution_count": 8,
                    "metadata": {},
                    "output_type": "execute_result"
                }
            ],
            "source": "# 3 Mean time travel to work\ntt_table = soup_tt.findAll('table')[1]\n#print(tt_table.prettify())\n\ntt_table_rows = tt_table.find_all('tr')\ntt_data = []\nfor tr in tt_table_rows:\n    td = tr.find_all('td')\n    row = [i.text for i in td]\n    tt_data.append(row)\n    \ntt_data = tt_data[1:]\n#print(tt_data)\n\ndf_tt = pd.DataFrame(tt_data, columns = ['City Name','Mean Travel Time (min)'])\ndf_tt.head(5)\n#print(df_tt)"
        },
        {
            "cell_type": "code",
            "execution_count": null,
            "metadata": {},
            "outputs": [],
            "source": "print('The size of the table is {}'.format(df_tt.shape))"
        },
        {
            "cell_type": "code",
            "execution_count": 12,
            "metadata": {},
            "outputs": [
                {
                    "data": {
                        "text/html": "<div>\n<style scoped>\n    .dataframe tbody tr th:only-of-type {\n        vertical-align: middle;\n    }\n\n    .dataframe tbody tr th {\n        vertical-align: top;\n    }\n\n    .dataframe thead th {\n        text-align: right;\n    }\n</style>\n<table border=\"1\" class=\"dataframe\">\n  <thead>\n    <tr style=\"text-align: right;\">\n      <th></th>\n      <th>Rank</th>\n      <th>Crime Index</th>\n      <th>City Name/ Population</th>\n    </tr>\n  </thead>\n  <tbody>\n    <tr>\n      <th>0</th>\n      <td>1.</td>\n      <td>0</td>\n      <td>Kempner, TX / 1,133</td>\n    </tr>\n    <tr>\n      <th>1</th>\n      <td>2.</td>\n      <td>23</td>\n      <td>Brackettville, TX / 2,070</td>\n    </tr>\n    <tr>\n      <th>2</th>\n      <td>3.</td>\n      <td>52</td>\n      <td>Bloomburg, TX / 307</td>\n    </tr>\n    <tr>\n      <th>3</th>\n      <td>4.</td>\n      <td>135</td>\n      <td>Crowell, TX / 811</td>\n    </tr>\n    <tr>\n      <th>4</th>\n      <td>5.</td>\n      <td>160</td>\n      <td>O'donnell, TX / 982</td>\n    </tr>\n  </tbody>\n</table>\n</div>",
                        "text/plain": "  Rank Crime Index      City Name/ Population\n0   1.           0        Kempner, TX / 1,133\n1   2.          23  Brackettville, TX / 2,070\n2   3.          52        Bloomburg, TX / 307\n3   4.         135          Crowell, TX / 811\n4   5.         160        O'donnell, TX / 982"
                    },
                    "execution_count": 12,
                    "metadata": {},
                    "output_type": "execute_result"
                }
            ],
            "source": "# 4 Crime Index\nci_table = soup_ci.findAll('table')[1]\n#print(ci_table.prettify())\n\nci_table_rows = ci_table.find_all('tr')\nci_data = []\nfor tr in ci_table_rows:\n    td = tr.find_all('td')\n    row = [i.text for i in td]\n    ci_data.append(row)\n\nci_data = ci_data[1:]\n#print(ci_data)\n\ndf_ci = pd.DataFrame(ci_data, columns = ['Rank','Crime Index','City Name/ Population'])\ndf_ci.head(5)\n#print(df_ci)"
        },
        {
            "cell_type": "code",
            "execution_count": null,
            "metadata": {},
            "outputs": [],
            "source": ""
        }
    ],
    "metadata": {
        "kernelspec": {
            "display_name": "Python 3.6",
            "language": "python",
            "name": "python3"
        },
        "language_info": {
            "codemirror_mode": {
                "name": "ipython",
                "version": 3
            },
            "file_extension": ".py",
            "mimetype": "text/x-python",
            "name": "python",
            "nbconvert_exporter": "python",
            "pygments_lexer": "ipython3",
            "version": "3.6.9"
        }
    },
    "nbformat": 4,
    "nbformat_minor": 1
}