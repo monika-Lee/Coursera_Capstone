{
    "cells": [
        {
            "cell_type": "markdown",
            "metadata": {},
            "source": "# Coursera Capstone Project"
        },
        {
            "cell_type": "markdown",
            "metadata": {
                "collapsed": true
            },
            "source": "## Introduction Section"
        },
        {
            "cell_type": "markdown",
            "metadata": {},
            "source": "### Project Topic: Where is the best location for our new-open appartment?"
        },
        {
            "cell_type": "markdown",
            "metadata": {},
            "source": "#### 1. Project Background Statement"
        },
        {
            "cell_type": "markdown",
            "metadata": {},
            "source": "We are looking for a place to start up our new apartment in Texas. Texas is growing very fast recently. A lot of constructions are ongoing here and there. New apartments, new restaurants can be found anywhere in Texas. As an individual who have lived in Texas for almost five years, I really feel the development of the State. As a third-populated state in the US, living in Texas is very comfortable and relaxed. The traffic is good here as well as the public transportation system. As the expanding economy and population of Texas, the demand of new apartment is increasing dramatically. Therefore, we believe that a new apartment business in Texas will be profitable and worth investing."
        },
        {
            "cell_type": "markdown",
            "metadata": {},
            "source": "#### 2. Project Target Statement"
        },
        {
            "cell_type": "markdown",
            "metadata": {},
            "source": "In this project, we are going to use Foursquare API to get information and analysis the data we obtained, to make a decision where (which city in Texas) will be the new apartment located."
        },
        {
            "cell_type": "markdown",
            "metadata": {},
            "source": "## Data Section"
        },
        {
            "cell_type": "markdown",
            "metadata": {},
            "source": "1. All the city information includling Name, population, household income, crimial rate, etc. (probabily from Webs)\n2. popularity of the city - numbers of parks, markets, schools, hospitals. (probabily from Foursquare API)"
        },
        {
            "cell_type": "code",
            "execution_count": 3,
            "metadata": {},
            "outputs": [],
            "source": "url1 = 'https://www.tsl.texas.gov/ref/abouttx/popcity32010.html' # city population\nurl2 = 'https://www.indexmundi.com/facts/united-states/quick-facts/texas/median-household-income/cities#table' # household income data\nurl3 = 'https://www.indexmundi.com/facts/united-states/quick-facts/texas/average-commute-time/cities#table'# mean travel time to work\nurl4 = 'http://www.usa.com/rank/texas-state--crime-index--city-rank.htm?hl=&hlst=&wist=&yr=&dis=&sb=ASC&plow=&phigh=&ps=' # city criminal index"
        },
        {
            "cell_type": "code",
            "execution_count": 4,
            "metadata": {},
            "outputs": [
                {
                    "name": "stdout",
                    "output_type": "stream",
                    "text": "Solving environment: done\n\n## Package Plan ##\n\n  environment location: /opt/conda/envs/Python36\n\n  added / updated specs: \n    - geopy\n\n\nThe following packages will be downloaded:\n\n    package                    |            build\n    ---------------------------|-----------------\n    certifi-2020.6.20          |   py36h9f0ad1d_0         151 KB  conda-forge\n    geopy-2.0.0                |     pyh9f0ad1d_0          63 KB  conda-forge\n    geographiclib-1.50         |             py_0          34 KB  conda-forge\n    ca-certificates-2020.6.20  |       hecda079_0         145 KB  conda-forge\n    openssl-1.1.1g             |       h516909a_1         2.1 MB  conda-forge\n    python_abi-3.6             |          1_cp36m           4 KB  conda-forge\n    ------------------------------------------------------------\n                                           Total:         2.5 MB\n\nThe following NEW packages will be INSTALLED:\n\n    geographiclib:   1.50-py_0          conda-forge\n    geopy:           2.0.0-pyh9f0ad1d_0 conda-forge\n    python_abi:      3.6-1_cp36m        conda-forge\n\nThe following packages will be UPDATED:\n\n    certifi:         2020.6.20-py36_0               --> 2020.6.20-py36h9f0ad1d_0 conda-forge\n    openssl:         1.1.1g-h7b6447c_0              --> 1.1.1g-h516909a_1        conda-forge\n\nThe following packages will be DOWNGRADED:\n\n    ca-certificates: 2020.7.22-0                    --> 2020.6.20-hecda079_0     conda-forge\n\n\nDownloading and Extracting Packages\ncertifi-2020.6.20    | 151 KB    | ##################################### | 100% \ngeopy-2.0.0          | 63 KB     | ##################################### | 100% \ngeographiclib-1.50   | 34 KB     | ##################################### | 100% \nca-certificates-2020 | 145 KB    | ##################################### | 100% \nopenssl-1.1.1g       | 2.1 MB    | ##################################### | 100% \npython_abi-3.6       | 4 KB      | ##################################### | 100% \nPreparing transaction: done\nVerifying transaction: done\nExecuting transaction: done\nSolving environment: done\n\n## Package Plan ##\n\n  environment location: /opt/conda/envs/Python36\n\n  added / updated specs: \n    - folium=0.5.0\n\n\nThe following packages will be downloaded:\n\n    package                    |            build\n    ---------------------------|-----------------\n    vincent-0.4.4              |             py_1          28 KB  conda-forge\n    folium-0.5.0               |             py_0          45 KB  conda-forge\n    altair-4.1.0               |             py_1         614 KB  conda-forge\n    branca-0.4.1               |             py_0          26 KB  conda-forge\n    ------------------------------------------------------------\n                                           Total:         713 KB\n\nThe following NEW packages will be INSTALLED:\n\n    altair:  4.1.0-py_1 conda-forge\n    branca:  0.4.1-py_0 conda-forge\n    folium:  0.5.0-py_0 conda-forge\n    vincent: 0.4.4-py_1 conda-forge\n\n\nDownloading and Extracting Packages\nvincent-0.4.4        | 28 KB     | ##################################### | 100% \nfolium-0.5.0         | 45 KB     | ##################################### | 100% \naltair-4.1.0         | 614 KB    | ##################################### | 100% \nbranca-0.4.1         | 26 KB     | ##################################### | 100% \nPreparing transaction: done\nVerifying transaction: done\nExecuting transaction: done\n"
                }
            ],
            "source": "# Install and import all the libraries:\nimport pandas as pd\npd.set_option('display.max_columns', None)\npd.set_option('display.max_rows', None)\n\nimport json # library to handle JSON files\n\n!conda install -c conda-forge geopy --yes\nfrom geopy.geocoders import Nominatim # convert an address into latitude and longitude values\n\nimport requests # library to handle requests\nfrom pandas.io.json import json_normalize # tranform JSON file into a pandas dataframe\n\n# Matplotlib and associated plotting modules\nimport matplotlib.cm as cm\nimport matplotlib.colors as colors\n\n# import k-means from clustering stage\nfrom sklearn.cluster import KMeans\n!conda install -c conda-forge folium=0.5.0 --yes # uncomment this line if you haven't completed the Foursquare API lab\nimport folium # map rendering library\n\nimport numpy as np\n\nfrom bs4 import BeautifulSoup"
        },
        {
            "cell_type": "code",
            "execution_count": 7,
            "metadata": {},
            "outputs": [],
            "source": "# create a object to handle the contents of targeting website\n# city population\npopulation = requests.get(url1).text\nsoup_pop = BeautifulSoup(population,'lxml')\n# household income\nincome = requests.get(url2).text\nsoup_income = BeautifulSoup(income,'lxml')\n# average travel time to work\ntravel_time = requests.get(url3).text\nsoup_tt = BeautifulSoup(travel_time,'lxml')\n# city criminal index \ncriminal_index = requests.get(url4).text\nsoup_ci = BeautifulSoup(criminal_index,'lxml')"
        },
        {
            "cell_type": "markdown",
            "metadata": {},
            "source": "Following table is the population, average income, mean travel time to work, and the crime index of Texas Cities"
        },
        {
            "cell_type": "code",
            "execution_count": 11,
            "metadata": {},
            "outputs": [
                {
                    "data": {
                        "text/html": "<div>\n<style scoped>\n    .dataframe tbody tr th:only-of-type {\n        vertical-align: middle;\n    }\n\n    .dataframe tbody tr th {\n        vertical-align: top;\n    }\n\n    .dataframe thead th {\n        text-align: right;\n    }\n</style>\n<table border=\"1\" class=\"dataframe\">\n  <thead>\n    <tr style=\"text-align: right;\">\n      <th></th>\n      <th>City Name</th>\n      <th>Population</th>\n    </tr>\n  </thead>\n  <tbody>\n    <tr>\n      <th>0</th>\n      <td>Houston</td>\n      <td>2099451</td>\n    </tr>\n    <tr>\n      <th>1</th>\n      <td>San Antonio</td>\n      <td>1327407</td>\n    </tr>\n    <tr>\n      <th>2</th>\n      <td>Dallas</td>\n      <td>1197816</td>\n    </tr>\n    <tr>\n      <th>3</th>\n      <td>Austin</td>\n      <td>790390</td>\n    </tr>\n    <tr>\n      <th>4</th>\n      <td>Fort Worth</td>\n      <td>741206</td>\n    </tr>\n  </tbody>\n</table>\n</div>",
                        "text/plain": "     City Name  Population\n0      Houston     2099451\n1  San Antonio     1327407\n2       Dallas     1197816\n3       Austin      790390\n4   Fort Worth      741206"
                    },
                    "execution_count": 11,
                    "metadata": {},
                    "output_type": "execute_result"
                }
            ],
            "source": "# find the table in the targeting website and convert them into panda dataframe\n# 1. the city population\npopulation_table = soup_pop.find('table')\n#print(population_table.prettify())\n\npopulation_table_rows = population_table.find_all('tr')\npopulation_data = []\nfor tr in population_table_rows:\n    td = tr.find_all('td') \n    row = [i.text.replace('\\n','').replace('\\t','').replace(' city','').replace(' CDP','').replace(' town','').replace(',','') for i in td] # remove \\n \\t and _city in the text with nothing\n    population_data.append(row)\n\npopulation_data = population_data[1:]\n#print (population_data)\n\ndf_pop = pd.DataFrame(population_data, columns = ['City Name','Population'])\ndf_pop = df_pop.drop([0],axis = 0)\ndf_pop = df_pop.reset_index(drop = True)\ndf_pop['City Name'] = df_pop['City Name'].str.title()\ndf_pop['Population']=df_pop['Population'].astype(int)\ndf_pop.head(5)\n#df_pop.dtypes\n"
        },
        {
            "cell_type": "code",
            "execution_count": 12,
            "metadata": {},
            "outputs": [
                {
                    "name": "stdout",
                    "output_type": "stream",
                    "text": "The size of the table is (1752, 2)\n"
                }
            ],
            "source": "print('The size of the table is {}'.format(df_pop.shape))"
        },
        {
            "cell_type": "code",
            "execution_count": 16,
            "metadata": {},
            "outputs": [
                {
                    "data": {
                        "text/html": "<div>\n<style scoped>\n    .dataframe tbody tr th:only-of-type {\n        vertical-align: middle;\n    }\n\n    .dataframe tbody tr th {\n        vertical-align: top;\n    }\n\n    .dataframe thead th {\n        text-align: right;\n    }\n</style>\n<table border=\"1\" class=\"dataframe\">\n  <thead>\n    <tr style=\"text-align: right;\">\n      <th></th>\n      <th>City Name</th>\n      <th>Household Income Value ($)</th>\n    </tr>\n  </thead>\n  <tbody>\n    <tr>\n      <th>0</th>\n      <td>Abilene</td>\n      <td>47689</td>\n    </tr>\n    <tr>\n      <th>1</th>\n      <td>Addison</td>\n      <td>73383</td>\n    </tr>\n    <tr>\n      <th>2</th>\n      <td>Alamo</td>\n      <td>39275</td>\n    </tr>\n    <tr>\n      <th>3</th>\n      <td>Alamo Heights</td>\n      <td>132313</td>\n    </tr>\n    <tr>\n      <th>4</th>\n      <td>Aldine</td>\n      <td>38964</td>\n    </tr>\n  </tbody>\n</table>\n</div>",
                        "text/plain": "       City Name  Household Income Value ($)\n0        Abilene                       47689\n1        Addison                       73383\n2          Alamo                       39275\n3  Alamo Heights                      132313\n4         Aldine                       38964"
                    },
                    "execution_count": 16,
                    "metadata": {},
                    "output_type": "execute_result"
                }
            ],
            "source": "# 2 The household income\nincome_table = soup_income.findAll('table')[1]\n#print(income_table.prettify())\n\nincome_table_rows = income_table.find_all('tr')\nincome_data = []\nfor tr in income_table_rows:\n    td = tr.find_all('td')\n    row = [i.text.replace(',','') for i in td]\n    income_data.append(row)\n    \nincome_data = income_data[1:]\n#print(income_data)\n\ndf_income = pd.DataFrame(income_data, columns = ['City Name','Household Income Value ($)'])\ndf_income['City Name'] = df_income['City Name'].str.title()\ndf_income['Household Income Value ($)']=df_income['Household Income Value ($)'].astype(int)\ndf_income.head(5)\n#print(df_income.dtypes)"
        },
        {
            "cell_type": "code",
            "execution_count": 17,
            "metadata": {},
            "outputs": [
                {
                    "name": "stdout",
                    "output_type": "stream",
                    "text": "The size of the table is (379, 2)\n"
                }
            ],
            "source": "print('The size of the table is {}'.format(df_income.shape))"
        },
        {
            "cell_type": "code",
            "execution_count": 21,
            "metadata": {},
            "outputs": [
                {
                    "data": {
                        "text/html": "<div>\n<style scoped>\n    .dataframe tbody tr th:only-of-type {\n        vertical-align: middle;\n    }\n\n    .dataframe tbody tr th {\n        vertical-align: top;\n    }\n\n    .dataframe thead th {\n        text-align: right;\n    }\n</style>\n<table border=\"1\" class=\"dataframe\">\n  <thead>\n    <tr style=\"text-align: right;\">\n      <th></th>\n      <th>City Name</th>\n      <th>Mean Travel Time (min)</th>\n    </tr>\n  </thead>\n  <tbody>\n    <tr>\n      <th>0</th>\n      <td>Abilene</td>\n      <td>15.6</td>\n    </tr>\n    <tr>\n      <th>1</th>\n      <td>Addison</td>\n      <td>22.1</td>\n    </tr>\n    <tr>\n      <th>2</th>\n      <td>Alamo</td>\n      <td>20.7</td>\n    </tr>\n    <tr>\n      <th>3</th>\n      <td>Alamo Heights</td>\n      <td>19.0</td>\n    </tr>\n    <tr>\n      <th>4</th>\n      <td>Aldine</td>\n      <td>31.4</td>\n    </tr>\n  </tbody>\n</table>\n</div>",
                        "text/plain": "       City Name  Mean Travel Time (min)\n0        Abilene                    15.6\n1        Addison                    22.1\n2          Alamo                    20.7\n3  Alamo Heights                    19.0\n4         Aldine                    31.4"
                    },
                    "execution_count": 21,
                    "metadata": {},
                    "output_type": "execute_result"
                }
            ],
            "source": "# 3 Mean time travel to work\ntt_table = soup_tt.findAll('table')[1]\n#print(tt_table.prettify())\n\ntt_table_rows = tt_table.find_all('tr')\ntt_data = []\nfor tr in tt_table_rows:\n    td = tr.find_all('td')\n    row = [i.text for i in td]\n    tt_data.append(row)\n    \ntt_data = tt_data[1:]\n#print(tt_data)\n\ndf_tt = pd.DataFrame(tt_data, columns = ['City Name','Mean Travel Time (min)'])\ndf_tt['City Name'] = df_tt['City Name'].str.title()\n\ndf_tt['Mean Travel Time (min)']=pd.to_numeric(df_tt['Mean Travel Time (min)'])\n#print(df_tt)\ndf_tt.head(5)\n#print(df_tt.dtypes)"
        },
        {
            "cell_type": "code",
            "execution_count": 40,
            "metadata": {},
            "outputs": [
                {
                    "name": "stdout",
                    "output_type": "stream",
                    "text": "The size of the table is (379, 2)\n"
                }
            ],
            "source": "print('The size of the table is {}'.format(df_tt.shape))"
        },
        {
            "cell_type": "code",
            "execution_count": 41,
            "metadata": {
                "scrolled": false
            },
            "outputs": [
                {
                    "data": {
                        "text/html": "<div>\n<style scoped>\n    .dataframe tbody tr th:only-of-type {\n        vertical-align: middle;\n    }\n\n    .dataframe tbody tr th {\n        vertical-align: top;\n    }\n\n    .dataframe thead th {\n        text-align: right;\n    }\n</style>\n<table border=\"1\" class=\"dataframe\">\n  <thead>\n    <tr style=\"text-align: right;\">\n      <th></th>\n      <th>Rank</th>\n      <th>Crime Index</th>\n      <th>City Name/ Population</th>\n    </tr>\n  </thead>\n  <tbody>\n    <tr>\n      <th>0</th>\n      <td>1.</td>\n      <td>0</td>\n      <td>Kempner, TX / 1,133</td>\n    </tr>\n    <tr>\n      <th>1</th>\n      <td>2.</td>\n      <td>23</td>\n      <td>Brackettville, TX / 2,070</td>\n    </tr>\n    <tr>\n      <th>2</th>\n      <td>3.</td>\n      <td>52</td>\n      <td>Bloomburg, TX / 307</td>\n    </tr>\n    <tr>\n      <th>3</th>\n      <td>4.</td>\n      <td>135</td>\n      <td>Crowell, TX / 811</td>\n    </tr>\n    <tr>\n      <th>4</th>\n      <td>5.</td>\n      <td>160</td>\n      <td>O'donnell, TX / 982</td>\n    </tr>\n  </tbody>\n</table>\n</div>",
                        "text/plain": "  Rank Crime Index      City Name/ Population\n0   1.           0        Kempner, TX / 1,133\n1   2.          23  Brackettville, TX / 2,070\n2   3.          52        Bloomburg, TX / 307\n3   4.         135          Crowell, TX / 811\n4   5.         160        O'donnell, TX / 982"
                    },
                    "execution_count": 41,
                    "metadata": {},
                    "output_type": "execute_result"
                }
            ],
            "source": "# 4 Crime Index\nci_table = soup_ci.findAll('table')[1]\n#print(ci_table.prettify())\n\nci_table_rows = ci_table.find_all('tr')\nci_data = []\nfor tr in ci_table_rows:\n    td = tr.find_all('td')\n    row = [i.text for i in td]\n    ci_data.append(row)\n\nci_data = ci_data[1:]\n#print(ci_data)\n\ndf_ci = pd.DataFrame(ci_data, columns = ['Rank','Crime Index','City Name/ Population'])\ndf_ci.head()"
        },
        {
            "cell_type": "code",
            "execution_count": 42,
            "metadata": {},
            "outputs": [
                {
                    "data": {
                        "text/html": "<div>\n<style scoped>\n    .dataframe tbody tr th:only-of-type {\n        vertical-align: middle;\n    }\n\n    .dataframe tbody tr th {\n        vertical-align: top;\n    }\n\n    .dataframe thead th {\n        text-align: right;\n    }\n</style>\n<table border=\"1\" class=\"dataframe\">\n  <thead>\n    <tr style=\"text-align: right;\">\n      <th></th>\n      <th>City Name</th>\n    </tr>\n  </thead>\n  <tbody>\n    <tr>\n      <th>0</th>\n      <td>Kempner</td>\n    </tr>\n    <tr>\n      <th>1</th>\n      <td>Brackettville</td>\n    </tr>\n    <tr>\n      <th>2</th>\n      <td>Bloomburg</td>\n    </tr>\n    <tr>\n      <th>3</th>\n      <td>Crowell</td>\n    </tr>\n    <tr>\n      <th>4</th>\n      <td>O'donnell</td>\n    </tr>\n  </tbody>\n</table>\n</div>",
                        "text/plain": "       City Name\n0        Kempner\n1  Brackettville\n2      Bloomburg\n3        Crowell\n4      O'donnell"
                    },
                    "execution_count": 42,
                    "metadata": {},
                    "output_type": "execute_result"
                }
            ],
            "source": "cc_data = []\nfor rows in df_ci['City Name/ Population']:\n    rows = rows.split(',', 1)[0]\n    cc_data.append(rows)\ncc_data = cc_data[0:]\n\ndf_cc = pd.DataFrame(cc_data , columns = ['City Name'])\ndf_cc.head()"
        },
        {
            "cell_type": "code",
            "execution_count": 50,
            "metadata": {},
            "outputs": [
                {
                    "name": "stdout",
                    "output_type": "stream",
                    "text": "City Name      object\nCrime Index     int64\ndtype: object\n"
                }
            ],
            "source": "df_ci_re = [df_cc['City Name'], df_ci['Crime Index']]\ndf_ci_re = pd.concat(df_ci_re, axis =1)\ndf_ci_re['City Name'] = df_ci_re['City Name'].str.title()\ndf_ci_re['Crime Index']=df_ci_re['Crime Index'].str.replace(',','').astype(int)\n#df_ci_re.head(500)\n#print(df_ci_re)\n#print(df_ci_re.dtypes)"
        },
        {
            "cell_type": "code",
            "execution_count": 51,
            "metadata": {},
            "outputs": [
                {
                    "name": "stdout",
                    "output_type": "stream",
                    "text": "The size of the table is (692, 2)\n"
                }
            ],
            "source": "print('The size of the table is {}'.format(df_ci_re.shape))"
        },
        {
            "cell_type": "markdown",
            "metadata": {},
            "source": "Join the tables above to combine all information together"
        },
        {
            "cell_type": "code",
            "execution_count": 52,
            "metadata": {},
            "outputs": [],
            "source": "df_texas1 = df_pop.join(df_income.set_index('City Name'), on = 'City Name')\ndf_texas2 = df_texas1.join(df_tt.set_index('City Name'),on = 'City Name')\ndf_texas_join = df_texas2.join(df_ci_re.set_index('City Name'),on = 'City Name')\n#df_texas_data.head()\n#print(df_texas_join)"
        },
        {
            "cell_type": "code",
            "execution_count": 54,
            "metadata": {
                "scrolled": false
            },
            "outputs": [
                {
                    "data": {
                        "text/html": "<div>\n<style scoped>\n    .dataframe tbody tr th:only-of-type {\n        vertical-align: middle;\n    }\n\n    .dataframe tbody tr th {\n        vertical-align: top;\n    }\n\n    .dataframe thead th {\n        text-align: right;\n    }\n</style>\n<table border=\"1\" class=\"dataframe\">\n  <thead>\n    <tr style=\"text-align: right;\">\n      <th></th>\n      <th>City Name</th>\n      <th>Population</th>\n      <th>Household Income Value ($)</th>\n      <th>Mean Travel Time (min)</th>\n      <th>Crime Index</th>\n    </tr>\n  </thead>\n  <tbody>\n    <tr>\n      <th>0</th>\n      <td>Houston</td>\n      <td>2099451</td>\n      <td>51140.0</td>\n      <td>27.4</td>\n      <td>3419.0</td>\n    </tr>\n    <tr>\n      <th>1</th>\n      <td>San Antonio</td>\n      <td>1327407</td>\n      <td>50980.0</td>\n      <td>24.4</td>\n      <td>2921.0</td>\n    </tr>\n    <tr>\n      <th>2</th>\n      <td>Dallas</td>\n      <td>1197816</td>\n      <td>50100.0</td>\n      <td>27.0</td>\n      <td>3369.0</td>\n    </tr>\n    <tr>\n      <th>3</th>\n      <td>Austin</td>\n      <td>790390</td>\n      <td>67462.0</td>\n      <td>24.3</td>\n      <td>2455.0</td>\n    </tr>\n    <tr>\n      <th>4</th>\n      <td>Fort Worth</td>\n      <td>741206</td>\n      <td>59255.0</td>\n      <td>27.2</td>\n      <td>2688.0</td>\n    </tr>\n    <tr>\n      <th>5</th>\n      <td>El Paso</td>\n      <td>649121</td>\n      <td>45656.0</td>\n      <td>22.8</td>\n      <td>1496.0</td>\n    </tr>\n    <tr>\n      <th>6</th>\n      <td>Arlington</td>\n      <td>365438</td>\n      <td>58502.0</td>\n      <td>27.2</td>\n      <td>2454.0</td>\n    </tr>\n    <tr>\n      <th>7</th>\n      <td>Corpus Christi</td>\n      <td>305215</td>\n      <td>55709.0</td>\n      <td>19.2</td>\n      <td>2822.0</td>\n    </tr>\n    <tr>\n      <th>8</th>\n      <td>Plano</td>\n      <td>259841</td>\n      <td>92121.0</td>\n      <td>26.9</td>\n      <td>1168.0</td>\n    </tr>\n    <tr>\n      <th>9</th>\n      <td>Laredo</td>\n      <td>236091</td>\n      <td>43351.0</td>\n      <td>21.1</td>\n      <td>2375.0</td>\n    </tr>\n    <tr>\n      <th>10</th>\n      <td>Lubbock</td>\n      <td>229573</td>\n      <td>48701.0</td>\n      <td>16.4</td>\n      <td>2957.0</td>\n    </tr>\n    <tr>\n      <th>11</th>\n      <td>Garland</td>\n      <td>226876</td>\n      <td>58999.0</td>\n      <td>29.1</td>\n      <td>1715.0</td>\n    </tr>\n    <tr>\n      <th>12</th>\n      <td>Irving</td>\n      <td>216290</td>\n      <td>61937.0</td>\n      <td>24.2</td>\n      <td>1688.0</td>\n    </tr>\n    <tr>\n      <th>13</th>\n      <td>Amarillo</td>\n      <td>190695</td>\n      <td>52543.0</td>\n      <td>17.8</td>\n      <td>2932.0</td>\n    </tr>\n    <tr>\n      <th>14</th>\n      <td>Grand Prairie</td>\n      <td>175396</td>\n      <td>65249.0</td>\n      <td>28.7</td>\n      <td>1975.0</td>\n    </tr>\n    <tr>\n      <th>15</th>\n      <td>Brownsville</td>\n      <td>175023</td>\n      <td>36499.0</td>\n      <td>20.2</td>\n      <td>1989.0</td>\n    </tr>\n    <tr>\n      <th>16</th>\n      <td>Pasadena</td>\n      <td>149043</td>\n      <td>53331.0</td>\n      <td>26.4</td>\n      <td>1814.0</td>\n    </tr>\n    <tr>\n      <th>17</th>\n      <td>Mesquite</td>\n      <td>139824</td>\n      <td>56074.0</td>\n      <td>31.9</td>\n      <td>1974.0</td>\n    </tr>\n    <tr>\n      <th>18</th>\n      <td>Mckinney</td>\n      <td>131117</td>\n      <td>89964.0</td>\n      <td>29.4</td>\n      <td>1045.0</td>\n    </tr>\n    <tr>\n      <th>19</th>\n      <td>Mcallen</td>\n      <td>129877</td>\n      <td>47279.0</td>\n      <td>19.2</td>\n      <td>1869.0</td>\n    </tr>\n    <tr>\n      <th>20</th>\n      <td>Killeen</td>\n      <td>127921</td>\n      <td>50418.0</td>\n      <td>21.9</td>\n      <td>2733.0</td>\n    </tr>\n    <tr>\n      <th>21</th>\n      <td>Waco</td>\n      <td>124805</td>\n      <td>37735.0</td>\n      <td>17.5</td>\n      <td>2852.0</td>\n    </tr>\n    <tr>\n      <th>22</th>\n      <td>Carrollton</td>\n      <td>119097</td>\n      <td>75820.0</td>\n      <td>25.4</td>\n      <td>1235.0</td>\n    </tr>\n    <tr>\n      <th>23</th>\n      <td>Beaumont</td>\n      <td>118296</td>\n      <td>47144.0</td>\n      <td>18.6</td>\n      <td>3393.0</td>\n    </tr>\n    <tr>\n      <th>24</th>\n      <td>Abilene</td>\n      <td>117063</td>\n      <td>47689.0</td>\n      <td>15.6</td>\n      <td>2185.0</td>\n    </tr>\n    <tr>\n      <th>25</th>\n      <td>Frisco</td>\n      <td>116989</td>\n      <td>127133.0</td>\n      <td>30.0</td>\n      <td>972.0</td>\n    </tr>\n    <tr>\n      <th>26</th>\n      <td>Denton</td>\n      <td>113383</td>\n      <td>56489.0</td>\n      <td>23.8</td>\n      <td>1477.0</td>\n    </tr>\n    <tr>\n      <th>27</th>\n      <td>Midland</td>\n      <td>111147</td>\n      <td>79744.0</td>\n      <td>18.8</td>\n      <td>1612.0</td>\n    </tr>\n    <tr>\n      <th>28</th>\n      <td>Wichita Falls</td>\n      <td>104553</td>\n      <td>45476.0</td>\n      <td>14.5</td>\n      <td>2627.0</td>\n    </tr>\n    <tr>\n      <th>29</th>\n      <td>Odessa</td>\n      <td>99940</td>\n      <td>63145.0</td>\n      <td>21.5</td>\n      <td>2244.0</td>\n    </tr>\n    <tr>\n      <th>30</th>\n      <td>Round Rock</td>\n      <td>99887</td>\n      <td>80637.0</td>\n      <td>25.8</td>\n      <td>949.0</td>\n    </tr>\n    <tr>\n      <th>31</th>\n      <td>Richardson</td>\n      <td>99223</td>\n      <td>80953.0</td>\n      <td>24.4</td>\n      <td>1310.0</td>\n    </tr>\n    <tr>\n      <th>32</th>\n      <td>Tyler</td>\n      <td>96900</td>\n      <td>49254.0</td>\n      <td>20.6</td>\n      <td>2369.0</td>\n    </tr>\n    <tr>\n      <th>33</th>\n      <td>Lewisville</td>\n      <td>95290</td>\n      <td>63056.0</td>\n      <td>25.4</td>\n      <td>1408.0</td>\n    </tr>\n    <tr>\n      <th>34</th>\n      <td>College Station</td>\n      <td>93857</td>\n      <td>42964.0</td>\n      <td>16.0</td>\n      <td>1503.0</td>\n    </tr>\n    <tr>\n      <th>35</th>\n      <td>San Angelo</td>\n      <td>93200</td>\n      <td>49066.0</td>\n      <td>15.9</td>\n      <td>2114.0</td>\n    </tr>\n    <tr>\n      <th>36</th>\n      <td>Pearland</td>\n      <td>91252</td>\n      <td>102891.0</td>\n      <td>32.9</td>\n      <td>1002.0</td>\n    </tr>\n    <tr>\n      <th>37</th>\n      <td>Allen</td>\n      <td>84246</td>\n      <td>106736.0</td>\n      <td>28.2</td>\n      <td>706.0</td>\n    </tr>\n    <tr>\n      <th>38</th>\n      <td>League City</td>\n      <td>83560</td>\n      <td>104831.0</td>\n      <td>30.2</td>\n      <td>997.0</td>\n    </tr>\n    <tr>\n      <th>39</th>\n      <td>Longview</td>\n      <td>80455</td>\n      <td>47950.0</td>\n      <td>18.4</td>\n      <td>3007.0</td>\n    </tr>\n    <tr>\n      <th>40</th>\n      <td>Sugar Land</td>\n      <td>78817</td>\n      <td>122233.0</td>\n      <td>30.9</td>\n      <td>808.0</td>\n    </tr>\n    <tr>\n      <th>41</th>\n      <td>Edinburg</td>\n      <td>77100</td>\n      <td>46862.0</td>\n      <td>20.5</td>\n      <td>2513.0</td>\n    </tr>\n    <tr>\n      <th>42</th>\n      <td>Mission</td>\n      <td>77058</td>\n      <td>47607.0</td>\n      <td>21.1</td>\n      <td>1496.0</td>\n    </tr>\n    <tr>\n      <th>43</th>\n      <td>Bryan</td>\n      <td>76201</td>\n      <td>44700.0</td>\n      <td>16.5</td>\n      <td>2474.0</td>\n    </tr>\n    <tr>\n      <th>44</th>\n      <td>Baytown</td>\n      <td>71802</td>\n      <td>55628.0</td>\n      <td>24.5</td>\n      <td>2328.0</td>\n    </tr>\n    <tr>\n      <th>45</th>\n      <td>Pharr</td>\n      <td>70400</td>\n      <td>39372.0</td>\n      <td>21.1</td>\n      <td>2087.0</td>\n    </tr>\n    <tr>\n      <th>46</th>\n      <td>Missouri City</td>\n      <td>67358</td>\n      <td>90335.0</td>\n      <td>30.5</td>\n      <td>828.0</td>\n    </tr>\n    <tr>\n      <th>47</th>\n      <td>Temple</td>\n      <td>66102</td>\n      <td>52226.0</td>\n      <td>18.7</td>\n      <td>1795.0</td>\n    </tr>\n    <tr>\n      <th>48</th>\n      <td>Harlingen</td>\n      <td>64849</td>\n      <td>38800.0</td>\n      <td>17.2</td>\n      <td>2644.0</td>\n    </tr>\n    <tr>\n      <th>49</th>\n      <td>Flower Mound</td>\n      <td>64669</td>\n      <td>134184.0</td>\n      <td>28.9</td>\n      <td>390.0</td>\n    </tr>\n  </tbody>\n</table>\n</div>",
                        "text/plain": "          City Name  Population  Household Income Value ($)  \\\n0           Houston     2099451                     51140.0   \n1       San Antonio     1327407                     50980.0   \n2            Dallas     1197816                     50100.0   \n3            Austin      790390                     67462.0   \n4        Fort Worth      741206                     59255.0   \n5           El Paso      649121                     45656.0   \n6         Arlington      365438                     58502.0   \n7    Corpus Christi      305215                     55709.0   \n8             Plano      259841                     92121.0   \n9            Laredo      236091                     43351.0   \n10          Lubbock      229573                     48701.0   \n11          Garland      226876                     58999.0   \n12           Irving      216290                     61937.0   \n13         Amarillo      190695                     52543.0   \n14    Grand Prairie      175396                     65249.0   \n15      Brownsville      175023                     36499.0   \n16         Pasadena      149043                     53331.0   \n17         Mesquite      139824                     56074.0   \n18         Mckinney      131117                     89964.0   \n19          Mcallen      129877                     47279.0   \n20          Killeen      127921                     50418.0   \n21             Waco      124805                     37735.0   \n22       Carrollton      119097                     75820.0   \n23         Beaumont      118296                     47144.0   \n24          Abilene      117063                     47689.0   \n25           Frisco      116989                    127133.0   \n26           Denton      113383                     56489.0   \n27          Midland      111147                     79744.0   \n28    Wichita Falls      104553                     45476.0   \n29           Odessa       99940                     63145.0   \n30       Round Rock       99887                     80637.0   \n31       Richardson       99223                     80953.0   \n32            Tyler       96900                     49254.0   \n33       Lewisville       95290                     63056.0   \n34  College Station       93857                     42964.0   \n35       San Angelo       93200                     49066.0   \n36         Pearland       91252                    102891.0   \n37            Allen       84246                    106736.0   \n38      League City       83560                    104831.0   \n39         Longview       80455                     47950.0   \n40       Sugar Land       78817                    122233.0   \n41         Edinburg       77100                     46862.0   \n42          Mission       77058                     47607.0   \n43            Bryan       76201                     44700.0   \n44          Baytown       71802                     55628.0   \n45            Pharr       70400                     39372.0   \n46    Missouri City       67358                     90335.0   \n47           Temple       66102                     52226.0   \n48        Harlingen       64849                     38800.0   \n49     Flower Mound       64669                    134184.0   \n\n    Mean Travel Time (min)  Crime Index  \n0                     27.4       3419.0  \n1                     24.4       2921.0  \n2                     27.0       3369.0  \n3                     24.3       2455.0  \n4                     27.2       2688.0  \n5                     22.8       1496.0  \n6                     27.2       2454.0  \n7                     19.2       2822.0  \n8                     26.9       1168.0  \n9                     21.1       2375.0  \n10                    16.4       2957.0  \n11                    29.1       1715.0  \n12                    24.2       1688.0  \n13                    17.8       2932.0  \n14                    28.7       1975.0  \n15                    20.2       1989.0  \n16                    26.4       1814.0  \n17                    31.9       1974.0  \n18                    29.4       1045.0  \n19                    19.2       1869.0  \n20                    21.9       2733.0  \n21                    17.5       2852.0  \n22                    25.4       1235.0  \n23                    18.6       3393.0  \n24                    15.6       2185.0  \n25                    30.0        972.0  \n26                    23.8       1477.0  \n27                    18.8       1612.0  \n28                    14.5       2627.0  \n29                    21.5       2244.0  \n30                    25.8        949.0  \n31                    24.4       1310.0  \n32                    20.6       2369.0  \n33                    25.4       1408.0  \n34                    16.0       1503.0  \n35                    15.9       2114.0  \n36                    32.9       1002.0  \n37                    28.2        706.0  \n38                    30.2        997.0  \n39                    18.4       3007.0  \n40                    30.9        808.0  \n41                    20.5       2513.0  \n42                    21.1       1496.0  \n43                    16.5       2474.0  \n44                    24.5       2328.0  \n45                    21.1       2087.0  \n46                    30.5        828.0  \n47                    18.7       1795.0  \n48                    17.2       2644.0  \n49                    28.9        390.0  "
                    },
                    "execution_count": 54,
                    "metadata": {},
                    "output_type": "execute_result"
                }
            ],
            "source": "df_texas_join_re = df_texas_join.dropna().reset_index(drop = True)\ndf_texas_join_re.head(50)\n#print(df_texas_join_re.dtypes)\n"
        },
        {
            "cell_type": "code",
            "execution_count": 37,
            "metadata": {},
            "outputs": [],
            "source": ""
        },
        {
            "cell_type": "code",
            "execution_count": 43,
            "metadata": {},
            "outputs": [],
            "source": ""
        },
        {
            "cell_type": "code",
            "execution_count": null,
            "metadata": {
                "scrolled": true
            },
            "outputs": [],
            "source": ""
        },
        {
            "cell_type": "markdown",
            "metadata": {},
            "source": "## Data Analysis Section"
        },
        {
            "cell_type": "markdown",
            "metadata": {},
            "source": "Basing on the data I collected for the cities in TX state, there are 4 major concerns, population, household income, mean travel time, and crime index. Apparently, large population, high household income, low travel time, and low crime index will make the new-built apartment more likely profitable. Therefore, in the following analysis, I am going to sort out the most appropriate place to build a new apartment."
        },
        {
            "cell_type": "code",
            "execution_count": 55,
            "metadata": {},
            "outputs": [
                {
                    "data": {
                        "text/html": "<div>\n<style scoped>\n    .dataframe tbody tr th:only-of-type {\n        vertical-align: middle;\n    }\n\n    .dataframe tbody tr th {\n        vertical-align: top;\n    }\n\n    .dataframe thead th {\n        text-align: right;\n    }\n</style>\n<table border=\"1\" class=\"dataframe\">\n  <thead>\n    <tr style=\"text-align: right;\">\n      <th></th>\n      <th>City Name</th>\n      <th>Population</th>\n      <th>Household Income Value ($)</th>\n      <th>Mean Travel Time (min)</th>\n      <th>Crime Index</th>\n    </tr>\n  </thead>\n  <tbody>\n    <tr>\n      <th>0</th>\n      <td>Houston</td>\n      <td>2099451</td>\n      <td>51140.0</td>\n      <td>27.4</td>\n      <td>3419.0</td>\n    </tr>\n    <tr>\n      <th>1</th>\n      <td>San Antonio</td>\n      <td>1327407</td>\n      <td>50980.0</td>\n      <td>24.4</td>\n      <td>2921.0</td>\n    </tr>\n    <tr>\n      <th>2</th>\n      <td>Dallas</td>\n      <td>1197816</td>\n      <td>50100.0</td>\n      <td>27.0</td>\n      <td>3369.0</td>\n    </tr>\n    <tr>\n      <th>3</th>\n      <td>Austin</td>\n      <td>790390</td>\n      <td>67462.0</td>\n      <td>24.3</td>\n      <td>2455.0</td>\n    </tr>\n    <tr>\n      <th>4</th>\n      <td>Fort Worth</td>\n      <td>741206</td>\n      <td>59255.0</td>\n      <td>27.2</td>\n      <td>2688.0</td>\n    </tr>\n  </tbody>\n</table>\n</div>",
                        "text/plain": "     City Name  Population  Household Income Value ($)  \\\n0      Houston     2099451                     51140.0   \n1  San Antonio     1327407                     50980.0   \n2       Dallas     1197816                     50100.0   \n3       Austin      790390                     67462.0   \n4   Fort Worth      741206                     59255.0   \n\n   Mean Travel Time (min)  Crime Index  \n0                    27.4       3419.0  \n1                    24.4       2921.0  \n2                    27.0       3369.0  \n3                    24.3       2455.0  \n4                    27.2       2688.0  "
                    },
                    "execution_count": 55,
                    "metadata": {},
                    "output_type": "execute_result"
                }
            ],
            "source": "df_data = df_texas_join_re.sort_values([\"Population\",\"Household Income Value ($)\",\"Mean Travel Time (min)\",\"Crime Index\"], ascending = (False, False, True, True))\ndf_data.head(5)"
        },
        {
            "cell_type": "code",
            "execution_count": 98,
            "metadata": {},
            "outputs": [],
            "source": "import matplotlib.pyplot as plt\nimport numpy as np\nfrom sklearn.linear_model import LinearRegression"
        },
        {
            "cell_type": "code",
            "execution_count": 172,
            "metadata": {},
            "outputs": [],
            "source": "population=df_texas_join_re[\"Population\"].values\nhousehold=df_texas_join_re[\"Household Income Value ($)\"].values\nmeantravel=df_texas_join_re[\"Mean Travel Time (min)\"].values\ncriminalind=df_texas_join_re[\"Crime Index\"].values\n\nX0=np.ones((333));\npopulation_X0=np.concatenate(([X0],[population])).transpose()\n#print(population)"
        },
        {
            "cell_type": "code",
            "execution_count": 173,
            "metadata": {},
            "outputs": [],
            "source": "regr1=LinearRegression().fit(population_X0,household)\nhousehold_p=regr1.predict(population_X0)"
        },
        {
            "cell_type": "code",
            "execution_count": 174,
            "metadata": {},
            "outputs": [],
            "source": "regr2=LinearRegression().fit(population_X0,meantravel)\nmeantravel_p=regr2.predict(population_X0)\nregr3=LinearRegression().fit(population_X0,criminalind)\ncriminalind_p=regr3.predict(population_X0)"
        },
        {
            "cell_type": "code",
            "execution_count": 175,
            "metadata": {},
            "outputs": [
                {
                    "name": "stdout",
                    "output_type": "stream",
                    "text": "Coefficients for household income: \n [ 0.         -0.00331832]\nCoefficients for mean travel time: \n [0.00000000e+00 1.46948418e-06]\nCoefficients for criminal index: \n [0.         0.00105864]\n"
                }
            ],
            "source": "#coefficients\nprint(\"Coefficients for household income: \\n\", regr1.coef_)\nprint(\"Coefficients for mean travel time: \\n\", regr2.coef_)\nprint(\"Coefficients for criminal index: \\n\", regr3.coef_)\n"
        },
        {
            "cell_type": "code",
            "execution_count": 181,
            "metadata": {},
            "outputs": [
                {
                    "data": {
                        "image/png": "[encoded data removed]",
                        "text/plain": "<Figure size 432x288 with 1 Axes>"
                    },
                    "metadata": {
                        "needs_background": "light"
                    },
                    "output_type": "display_data"
                }
            ],
            "source": "#plot output\nplt.scatter(population, household, color='black')\nplt.scatter(population, meantravel, color='red')\nplt.scatter(population, criminalind, color='blue')\nplt.plot(population, household_p, color='black', linewidth=3, label ='household income')\nplt.plot(population, meantravel_p, color='red', linewidth=3, label = 'mean travel time')\nplt.plot(population, criminalind_p, color='blue', linewidth=3, label= 'criminal index')\nplt.xticks(())\nplt.yticks(())\nplt.yscale('log')\nplt.xscale('log')\nplt.xlabel(\"population of cities\")\nplt.ylabel(\"househould income/travel time/criminal index\")\nplt.legend()\nplt.show()"
        },
        {
            "cell_type": "code",
            "execution_count": null,
            "metadata": {},
            "outputs": [],
            "source": ""
        },
        {
            "cell_type": "code",
            "execution_count": null,
            "metadata": {},
            "outputs": [],
            "source": ""
        }
    ],
    "metadata": {
        "kernelspec": {
            "display_name": "Python 3.6",
            "language": "python",
            "name": "python3"
        },
        "language_info": {
            "codemirror_mode": {
                "name": "ipython",
                "version": 3
            },
            "file_extension": ".py",
            "mimetype": "text/x-python",
            "name": "python",
            "nbconvert_exporter": "python",
            "pygments_lexer": "ipython3",
            "version": "3.6.9"
        }
    },
    "nbformat": 4,
    "nbformat_minor": 1
}