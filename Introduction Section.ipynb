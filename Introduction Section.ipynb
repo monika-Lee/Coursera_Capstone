{
    "cells": [
        {
            "cell_type": "markdown",
            "metadata": {
                "collapsed": true
            },
            "source": "## Introduction Section"
        },
        {
            "cell_type": "markdown",
            "metadata": {},
            "source": "### Project Topic: Where is the best location for our new-open appartment?"
        },
        {
            "cell_type": "markdown",
            "metadata": {},
            "source": "#### 1. Project Background Statement"
        },
        {
            "cell_type": "markdown",
            "metadata": {},
            "source": "We are looking for a place to start up our new appartment in Texas. Texas is growing very fast recently. A lot of constructions are on going here and there. New appartments, new restaurants can be found anywhere in Texas. As an individual who have lived in Texas for amost five years, I really feel the development of the State. As a third-populated state in the US, living in Texas is very comfortable and relaxed. The traffic is good here as well as the public transporation system.\nAs the expanding econemy and population of Texas, the demand of new appartment is increasing dramatically. Therefore, we believe that a new appartment business in Texas will be profitable and worth investing."
        },
        {
            "cell_type": "markdown",
            "metadata": {},
            "source": "#### 2. Project Target Statement"
        },
        {
            "cell_type": "markdown",
            "metadata": {},
            "source": "In this project, we are going to use Foursquare API to get information and analysis the data we obtained, to make a decision where (which city in Texas) will be the new appartment located."
        },
        {
            "cell_type": "markdown",
            "metadata": {},
            "source": "## Data Section"
        },
        {
            "cell_type": "markdown",
            "metadata": {},
            "source": "1. All the city information includling Name, citysize, population, population increase rate, household income, crimial rate. (probabily from Wikipedia)\n\n2. popularity of the city - numbers of parks, markets, schools, hospitals. (probabily from Foursquare API)"
        },
        {
            "cell_type": "code",
            "execution_count": null,
            "metadata": {},
            "outputs": [],
            "source": "# import all the libar"
        }
    ],
    "metadata": {
        "kernelspec": {
            "display_name": "Python 3.6",
            "language": "python",
            "name": "python3"
        },
        "language_info": {
            "codemirror_mode": {
                "name": "ipython",
                "version": 3
            },
            "file_extension": ".py",
            "mimetype": "text/x-python",
            "name": "python",
            "nbconvert_exporter": "python",
            "pygments_lexer": "ipython3",
            "version": "3.6.9"
        }
    },
    "nbformat": 4,
    "nbformat_minor": 1
}